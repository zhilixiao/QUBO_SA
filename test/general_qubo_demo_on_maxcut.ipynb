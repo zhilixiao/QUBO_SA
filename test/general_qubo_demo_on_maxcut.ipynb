{
 "cells": [
  {
   "cell_type": "code",
   "execution_count": 1,
   "id": "87d3543b",
   "metadata": {},
   "outputs": [],
   "source": [
    "#from maxcut import maxcut_SA\n",
    "import QUBO"
   ]
  },
  {
   "cell_type": "code",
   "execution_count": 2,
   "id": "cf99c9f6",
   "metadata": {},
   "outputs": [
    {
     "name": "stdout",
     "output_type": "stream",
     "text": [
      "[[-2  2  2  0  0]\n",
      " [ 0 -3  0  2  2]\n",
      " [ 0  0 -2  2  0]\n",
      " [ 0  0  0 -3  2]\n",
      " [ 0  0  0  0 -2]]\n",
      "[[-2  2  2  0  0]\n",
      " [ 2 -3  0  2  2]\n",
      " [ 2  0 -2  2  0]\n",
      " [ 0  2  2 -3  2]\n",
      " [ 0  2  0  2 -2]]\n"
     ]
    }
   ],
   "source": [
    "import numpy as np\n",
    "\n",
    "N = 5\n",
    "E = 6\n",
    "\n",
    "A = np.array([[0, 1, 1, 0, 0],\n",
    "             [1, 0, 0, 1, 1],\n",
    "             [1, 0, 0, 1, 0],\n",
    "             [0, 1, 1, 0, 1],\n",
    "             [0, 1, 0, 1, 0]])\n",
    "\n",
    "Q = QUBO.AtoQ(A)\n",
    "print(Q)\n",
    "\n",
    "newQ = QUBO.modQ(Q)\n",
    "print(newQ)\n"
   ]
  },
  {
   "cell_type": "code",
   "execution_count": 4,
   "id": "abe92c90",
   "metadata": {},
   "outputs": [
    {
     "name": "stdout",
     "output_type": "stream",
     "text": [
      "best_E -5.0\n",
      "x_best [[ True False False  True  True]]\n",
      "v_best [[ 1 -1 -1  1  1]]\n",
      "max_cut 5.0\n"
     ]
    }
   ],
   "source": [
    "init_heat = 0\n",
    "heat_max = 10\n",
    "delta_heat = 2e-3\n",
    "\n",
    "best_E, x_best = QUBO.qubo_SA(newQ, init_heat, heat_max, delta_heat)\n",
    "\n",
    "print(\"best_E\", best_E)\n",
    "print(\"x_best\", x_best)\n",
    "\n",
    "v_best = x_best*2 - 1\n",
    "print(\"v_best\", v_best)\n",
    "max_cut = np.sum(np.sum(np.multiply(A, 1 - v_best.T@v_best)))/4\n",
    "print(\"max_cut\", max_cut)"
   ]
  },
  {
   "cell_type": "code",
   "execution_count": 5,
   "id": "1725c1ac",
   "metadata": {},
   "outputs": [
    {
     "name": "stdout",
     "output_type": "stream",
     "text": [
      "Number of Nodes =  800\n",
      "Number of Edges =  4661\n"
     ]
    },
    {
     "data": {
      "text/plain": [
       "<matplotlib.image.AxesImage at 0x19624925760>"
      ]
     },
     "execution_count": 5,
     "metadata": {},
     "output_type": "execute_result"
    },
    {
     "data": {
      "image/png": "[encoded data removed]",
      "text/plain": [
       "<Figure size 640x480 with 1 Axes>"
      ]
     },
     "metadata": {},
     "output_type": "display_data"
    }
   ],
   "source": [
    "import matplotlib.pyplot as plt\n",
    "from scipy.sparse import coo_matrix\n",
    "\n",
    "graph_path = './G15.txt'\n",
    "\n",
    "data = np.loadtxt(graph_path, skiprows=0, max_rows=1, dtype=int)\n",
    "N = data[0]\n",
    "E = data[1]\n",
    "print('Number of Nodes = ', N)\n",
    "print('Number of Edges = ', E)\n",
    "\n",
    "data = np.loadtxt(graph_path, skiprows=1, dtype=int)\n",
    "#print(N = data[0,0])\n",
    "#E = data[0,1]\n",
    "col = data[:,1].T - 1\n",
    "row = data[:,0].T - 1\n",
    "Aij = data[:,2].T\n",
    "A = coo_matrix((Aij,(row,col)), shape=(N, N), dtype=int)\n",
    "A = A.toarray()\n",
    "A = A + A.T \n",
    "plt.imshow(-A,cmap='Greys',interpolation='nearest')   "
   ]
  },
  {
   "cell_type": "code",
   "execution_count": 8,
   "id": "34ea4a1b",
   "metadata": {},
   "outputs": [
    {
     "name": "stdout",
     "output_type": "stream",
     "text": [
      "best_E -3047.0\n",
      "max_cut 3047.0\n"
     ]
    }
   ],
   "source": [
    "Q = QUBO.AtoQ(A)\n",
    "best_E, x_best = QUBO.qubo_SA(Q, 0, 10000, 2e-3)\n",
    "\n",
    "print(\"best_E\", best_E)\n",
    "#print(\"x_best\", x_best)\n",
    "\n",
    "v_best = x_best*2 - 1\n",
    "#print(\"v_best\", v_best)\n",
    "max_cut = np.sum(np.sum(np.multiply(A, 1 - v_best.T@v_best)))/4\n",
    "print(\"max_cut\", max_cut)"
   ]
  }
 ],
 "metadata": {
  "kernelspec": {
   "display_name": "Python 3 (ipykernel)",
   "language": "python",
   "name": "python3"
  },
  "language_info": {
   "codemirror_mode": {
    "name": "ipython",
    "version": 3
   },
   "file_extension": ".py",
   "mimetype": "text/x-python",
   "name": "python",
   "nbconvert_exporter": "python",
   "pygments_lexer": "ipython3",
   "version": "3.9.10"
  }
 },
 "nbformat": 4,
 "nbformat_minor": 5
}
