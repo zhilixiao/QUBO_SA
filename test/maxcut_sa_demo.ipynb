{
 "cells": [
  {
   "cell_type": "code",
   "execution_count": 1,
   "id": "87d3543b",
   "metadata": {},
   "outputs": [],
   "source": [
    "from maxcut import maxcut_SA"
   ]
  },
  {
   "cell_type": "code",
   "execution_count": 2,
   "id": "cf99c9f6",
   "metadata": {},
   "outputs": [
    {
     "name": "stdout",
     "output_type": "stream",
     "text": [
      "5\n"
     ]
    }
   ],
   "source": [
    "import numpy as np\n",
    "\n",
    "N = 5\n",
    "E = 6\n",
    "\n",
    "A = np.array([[0, 1, 1, 0, 0],\n",
    "             [1, 0, 0, 1, 1],\n",
    "             [1, 0, 0, 1, 0],\n",
    "             [0, 1, 1, 0, 1],\n",
    "             [0, 1, 0, 1, 0]])\n",
    "\n",
    "N = int(np.shape(A)[0])\n",
    "print(N)"
   ]
  },
  {
   "cell_type": "code",
   "execution_count": 3,
   "id": "abe92c90",
   "metadata": {},
   "outputs": [
    {
     "name": "stdout",
     "output_type": "stream",
     "text": [
      "5.0\n"
     ]
    }
   ],
   "source": [
    "init_heat = 0\n",
    "heat_max = 1000\n",
    "delta_heat = 2e-3\n",
    "max_cut, v_best = maxcut_SA(A, init_heat, heat_max, delta_heat)\n",
    "print(max_cut)"
   ]
  },
  {
   "cell_type": "code",
   "execution_count": null,
   "id": "1725c1ac",
   "metadata": {},
   "outputs": [],
   "source": []
  }
 ],
 "metadata": {
  "kernelspec": {
   "display_name": "Python 3 (ipykernel)",
   "language": "python",
   "name": "python3"
  },
  "language_info": {
   "codemirror_mode": {
    "name": "ipython",
    "version": 3
   },
   "file_extension": ".py",
   "mimetype": "text/x-python",
   "name": "python",
   "nbconvert_exporter": "python",
   "pygments_lexer": "ipython3",
   "version": "3.9.10"
  }
 },
 "nbformat": 4,
 "nbformat_minor": 5
}
